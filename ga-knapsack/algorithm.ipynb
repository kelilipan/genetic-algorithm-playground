{
 "cells": [
  {
   "cell_type": "code",
   "execution_count": 1,
   "metadata": {},
   "outputs": [],
   "source": [
    "import random"
   ]
  },
  {
   "cell_type": "markdown",
   "metadata": {},
   "source": [
    "## Inisialisasi populasi"
   ]
  },
  {
   "cell_type": "code",
   "execution_count": 2,
   "metadata": {},
   "outputs": [],
   "source": [
    "def genPopulasi(nPop, nKrom):\n",
    "    pop = [[int(round(random.random())) for i in range(nKrom)] for j in range(nPop)]\n",
    "    return pop"
   ]
  },
  {
   "cell_type": "markdown",
   "metadata": {},
   "source": [
    "## Hitung nilai fitness"
   ]
  },
  {
   "cell_type": "code",
   "execution_count": 3,
   "metadata": {},
   "outputs": [],
   "source": [
    "def hitungFitness(krom, weight, value, max_fitness):\n",
    "    w = 0\n",
    "    v = 0\n",
    "    for i in range(len(krom)):\n",
    "        if krom[i] == 1:\n",
    "            w += weight[i]\n",
    "            v += value[i]\n",
    "    if w > max_fitness:\n",
    "        fitness = 0\n",
    "    else:\n",
    "        fitness = v\n",
    "    return fitness"
   ]
  },
  {
   "cell_type": "markdown",
   "metadata": {},
   "source": [
    "## Seleksi orang tua"
   ]
  },
  {
   "cell_type": "code",
   "execution_count": 4,
   "metadata": {},
   "outputs": [],
   "source": [
    "def turnamenParent(pop, n, weight, value, max_fitness):\n",
    "    idxs = random.sample(range(len(pop)), n)\n",
    "    fitnesses = [hitungFitness(pop[idxs[i]], weight, value, max_fitness) for i in range(n)]\n",
    "    fitnesses, idxs = zip(*sorted(zip(fitnesses, idxs)))\n",
    "    return idxs[0]"
   ]
  },
  {
   "cell_type": "markdown",
   "metadata": {},
   "source": [
    "## Crossover"
   ]
  },
  {
   "cell_type": "code",
   "execution_count": 2,
   "metadata": {},
   "outputs": [],
   "source": [
    "def crossover(krom1, krom2, pCross):\n",
    "    rand = random.random()\n",
    "    titik = int(round(random.uniform(1, len(krom1)-1)))\n",
    "    if rand <= pCross:\n",
    "        for i in range(titik):\n",
    "            krom1[i], krom2[i] = krom2[i], krom1[i]\n",
    "    return krom1, krom2"
   ]
  },
  {
   "cell_type": "code",
   "execution_count": 4,
   "metadata": {},
   "outputs": [
    {
     "data": {
      "text/plain": [
       "([0, 9, 8, 7, 5, 6, 7, 8, 9, 0], [1, 2, 3, 4, 6, 5, 4, 3, 2, 1])"
      ]
     },
     "execution_count": 4,
     "metadata": {},
     "output_type": "execute_result"
    }
   ],
   "source": [
    "crossover([1,2,3,4,5,6,7,8,9,0],[0,9,8,7,6,5,4,3,2,1],1)"
   ]
  },
  {
   "cell_type": "markdown",
   "metadata": {},
   "source": [
    "## Mutasi"
   ]
  },
  {
   "cell_type": "code",
   "execution_count": 6,
   "metadata": {},
   "outputs": [],
   "source": [
    "def mutasi(krom, pMutasi):\n",
    "    for i in range(len(krom)):\n",
    "        rand = random.random()\n",
    "        if rand <= pMutasi:\n",
    "            if krom[i] == 0:\n",
    "                krom[i] = 1\n",
    "            else:\n",
    "                krom[i] = 0\n",
    "    return krom"
   ]
  },
  {
   "cell_type": "markdown",
   "metadata": {},
   "source": [
    "## Inisialisasi variable dan hyperparameter"
   ]
  },
  {
   "cell_type": "code",
   "execution_count": 7,
   "metadata": {},
   "outputs": [],
   "source": [
    "nama = ['Nila', 'Gurame', 'Kakap', 'Lele', 'Mujair']\n",
    "weight = [2, 7, 4, 1, 1]\n",
    "value = [50000, 70000, 60000, 15000, 25000]\n",
    "max_fitness = 12\n",
    "\n",
    "nGen = 10\n",
    "nPop = 20\n",
    "nKrom = len(nama)\n",
    "\n",
    "pCross = 0.8\n",
    "pMutasi = 0.2"
   ]
  },
  {
   "cell_type": "markdown",
   "metadata": {},
   "source": [
    "## Program Utama"
   ]
  },
  {
   "cell_type": "code",
   "execution_count": 8,
   "metadata": {},
   "outputs": [],
   "source": [
    "# Inisialisasi Populasi\n",
    "pop = genPopulasi(nPop, nKrom)\n",
    "\n",
    "for i in range(nGen):\n",
    "        fitness = []\n",
    "        anak = []\n",
    "        for j in range(round(nPop/2)):\n",
    "\n",
    "            # Seleksi orang tua\n",
    "            parent1 = turnamenParent(pop, 10, weight, value, max_fitness)\n",
    "            parent2 = turnamenParent(pop, 10, weight, value, max_fitness)\n",
    "\n",
    "            anak1 = pop[parent1][:]\n",
    "            anak2 = pop[parent2][:]\n",
    "\n",
    "            # Crossover\n",
    "            anak1, anak2 = crossover(anak1, anak2, pCross)\n",
    "\n",
    "            # mutasi\n",
    "            anak1 = mutasi(anak1, pMutasi)\n",
    "            anak2 = mutasi(anak2, pMutasi)\n",
    "\n",
    "            anak.append(anak1)\n",
    "            anak.append(anak2)\n",
    "\n",
    "        gab = pop + anak\n",
    "        \n",
    "        for f in range(len(gab)):\n",
    "            fitness.append(hitungFitness(gab[f], weight, value, max_fitness))\n",
    "        \n",
    "        steadyState = sorted(range(len(fitness)), key=lambda k: fitness[k], reverse=True)\n",
    "        \n",
    "        pop = []\n",
    "        for j in range(nPop):\n",
    "            pop.append(gab[steadyState[j]])\n",
    "#         print (pop[0])"
   ]
  },
  {
   "cell_type": "markdown",
   "metadata": {},
   "source": [
    "## Hasil GA"
   ]
  },
  {
   "cell_type": "code",
   "execution_count": 9,
   "metadata": {
    "scrolled": true
   },
   "outputs": [
    {
     "name": "stdout",
     "output_type": "stream",
     "text": [
      "Jumlah nilai : 160000\n",
      "Nila, Gurame, Lele, Mujair, "
     ]
    }
   ],
   "source": [
    "print (\"Jumlah nilai :\", fitness[steadyState[0]])\n",
    "for i in range(nKrom):\n",
    "    if pop[0][i] == 1:\n",
    "        print (nama[i], end=', ')"
   ]
  },
  {
   "cell_type": "markdown",
   "metadata": {},
   "source": [
    "### Nah gampang kan?"
   ]
  }
 ],
 "metadata": {
  "kernelspec": {
   "display_name": "Python 3",
   "language": "python",
   "name": "python3"
  },
  "language_info": {
   "codemirror_mode": {
    "name": "ipython",
    "version": 3
   },
   "file_extension": ".py",
   "mimetype": "text/x-python",
   "name": "python",
   "nbconvert_exporter": "python",
   "pygments_lexer": "ipython3",
   "version": "3.7.3"
  }
 },
 "nbformat": 4,
 "nbformat_minor": 2
}
