{
 "cells": [
  {
   "cell_type": "code",
   "execution_count": 2,
   "metadata": {},
   "outputs": [],
   "source": [
    "import random\n",
    "import array"
   ]
  },
  {
   "cell_type": "code",
   "execution_count": 3,
   "metadata": {},
   "outputs": [],
   "source": [
    "def fungsi(X1,X2):\n",
    "    return ((4-2.1*X1**2)+(X1**4/3))*X1**2+(X1*X2)+ (-4+(4*X2**2))*X2**2"
   ]
  },
  {
   "cell_type": "code",
   "execution_count": 4,
   "metadata": {},
   "outputs": [],
   "source": [
    "def generatepopulation(n):\n",
    "    arrayreal = []\n",
    "    for i in range(n):\n",
    "        arrayreal.append([random.uniform(-3,3),random.uniform(-2,2)])\n",
    "    return arrayreal"
   ]
  },
  {
   "cell_type": "code",
   "execution_count": 5,
   "metadata": {},
   "outputs": [],
   "source": [
    "#fungsi fitness\n",
    "def hitungfitness(populasi):\n",
    "    array = []\n",
    "    for i in (populasi):\n",
    "        array.append(-fungsi(i[0],i[1]))\n",
    "    return array"
   ]
  },
  {
   "cell_type": "code",
   "execution_count": 6,
   "metadata": {},
   "outputs": [],
   "source": [
    "def tournamentselection(populasi,fit):\n",
    "    parent = []\n",
    "    z = zip(populasi,fit)\n",
    "    kandidat = random.sample(list(zip(populasi,fit)),random.randint(1,len(populasi)))\n",
    "    kandidat = sorted(kandidat,key= lambda k:k[1],reverse=True)\n",
    "    return kandidat[0][0]"
   ]
  },
  {
   "cell_type": "code",
   "execution_count": 7,
   "metadata": {},
   "outputs": [],
   "source": [
    "def crossover(parent1,parent2,pC):\n",
    "    p1,p2=parent1.copy(),parent2.copy()\n",
    "    if random.random() <=pC:\n",
    "        p1[1]=parent2[1]\n",
    "        p2[1]=parent1[1]\n",
    "    return p1,p2"
   ]
  },
  {
   "cell_type": "code",
   "execution_count": 8,
   "metadata": {},
   "outputs": [],
   "source": [
    "def mutasi(kromosom,pM):\n",
    "    if random.random()<=pM:\n",
    "        kromosom[0] = random.uniform(-3,3)\n",
    "    if random.random()<=pM:\n",
    "        kromosom[1] = random.uniform(-2,2)\n",
    "    return kromosom"
   ]
  },
  {
   "cell_type": "code",
   "execution_count": 9,
   "metadata": {},
   "outputs": [],
   "source": [
    "def elitisme(populasi,fit):\n",
    "    temp = zip(populasi,fit)\n",
    "    temp = sorted(temp,key= lambda k:k[1],reverse=True)\n",
    "    return [temp[0][0],temp[1][0]]"
   ]
  },
  {
   "cell_type": "code",
   "execution_count": 10,
   "metadata": {},
   "outputs": [],
   "source": [
    "N=50\n",
    "gen = 1000\n",
    "pC = 0.8\n",
    "pM = 0.33"
   ]
  },
  {
   "cell_type": "code",
   "execution_count": 11,
   "metadata": {
    "scrolled": true
   },
   "outputs": [
    {
     "name": "stdout",
     "output_type": "stream",
     "text": [
      "([-0.08996495947807404, 0.7126312415641132], 1.0316283862825701)\n",
      "([-0.08996495947807404, 0.7126312415641132], 1.0316283862825701)\n",
      "([-0.08996495947807404, 0.3912017304943616], 0.5214287478761814)\n",
      "([-2.002025725469447, -0.6588308020690596], -4.0957903934170385)\n",
      "([-0.08996495947807404, 0.7126312415641132], 1.0316283862825701)\n",
      "([-0.08996495947807404, 1.8863049372501517], -36.271571606132554)\n",
      "([-2.32414592903291, 0.7126312415641132], -10.213333160361458)\n",
      "([1.3564649666848965, 0.7126312415641132], -2.2936476719669328)\n",
      "([2.36942262791354, 0.7126312415641132], -15.939837298593247)\n",
      "([-0.08996495947807404, -1.350041117997983], -6.150893424312324)\n",
      "([-0.0595399006254036, 0.7126312415641132], 1.0280303015687968)\n",
      "([-1.8439550016802957, 0.7126312415641132], -0.11173715898393166)\n",
      "([-1.902026144171496, -0.5321265859741873], -2.9692455915989244)\n",
      "([-1.843218589856858, 0.7126312415641132], -0.10879477148968253)\n",
      "([1.8304030307132724, 0.7126312415641132], -2.669622776822083)\n",
      "([-0.08996495947807404, 0.7126312415641132], 1.0316283862825701)\n",
      "([-0.08996495947807404, 0.7126312415641132], 1.0316283862825701)\n",
      "([-0.08996495947807404, -0.5381616134295393], 0.7423044516473372)\n",
      "([-0.08996495947807404, 1.542825824575325], -13.035722846966637)\n",
      "([-0.08996495947807404, 0.7126312415641132], 1.0316283862825701)\n",
      "([-0.08996495947807404, -0.2826570844677385], 0.23638062891801134)\n",
      "([-0.10152208427334886, 0.7126312415641132], 1.0310975214449027)\n",
      "([-0.41380609425584636, -0.7031860409132515], 0.08385480814276491)\n",
      "([-0.674072586310329, -0.8798716743977866], -1.308991257001194)\n",
      "([-0.08996495947807404, 0.7126312415641132], 1.0316283862825701)\n",
      "([-0.08996495947807404, 0.7126312415641132], 1.0316283862825701)\n",
      "([-0.08996495947807404, 0.7126312415641132], 1.0316283862825701)\n",
      "([-0.08996495947807404, 0.7126312415641132], 1.0316283862825701)\n",
      "([-0.08996495947807404, 0.7126312415641132], 1.0316283862825701)\n",
      "([-0.08996495947807404, -1.644619533510618], -18.62429867346184)\n",
      "([-0.08996495947807404, 0.7126312415641132], 1.0316283862825701)\n",
      "([0.289079466021843, 0.7126312415641132], 0.4739498033601025)\n",
      "([-0.08996495947807404, 0.7126312415641132], 1.0316283862825701)\n",
      "([-0.08996495947807404, -1.0630149943171134], -0.7154759126501989)\n",
      "([-0.17271252962705308, 0.7126312415641132], 1.0053755495834953)\n",
      "([-1.520330776855436, 1.9943641423623024], -46.482080301196106)\n",
      "([1.0265742386631196, 0.7126312415641132], -2.0050937177673362)\n",
      "([-0.08996495947807404, 0.7126312415641132], 1.0316283862825701)\n",
      "([0.8861246689344475, -0.5288933033496872], -0.7328725478002911)\n",
      "([-0.08996495947807404, 0.7126312415641132], 1.0316283862825701)\n",
      "([-0.08996495947807404, 0.7126312415641132], 1.0316283862825701)\n",
      "([1.093020308350356, 0.7126312415641132], -2.129018451883067)\n",
      "([-0.08996495947807404, 0.7126312415641132], 1.0316283862825701)\n",
      "([-0.08996495947807404, 0.7126312415641132], 1.0316283862825701)\n",
      "([0.26307328921247786, 1.8534515761159827], -34.218015151149885)\n",
      "([-0.08996495947807404, -1.062681852340552], -0.7118788219273884)\n",
      "([-0.08996495947807404, 0.2131279839867415], 0.16037762370079128)\n",
      "([-0.9244068963253111, 0.08653466941347432], -1.9829294355749325)\n",
      "([-0.45932662927919754, 0.7126312415641132], 0.5735073864348214)\n",
      "([-0.08996495947807404, 0.7126312415641132], 1.0316283862825701)\n",
      "x1 =  -0.08996495947807404\n",
      "x2 =  0.7126312415641132\n",
      "fitness =  1.0316283862825701\n"
     ]
    }
   ],
   "source": [
    "populasi = generatepopulation(N)\n",
    "for i in range(gen):\n",
    "    fit = hitungfitness(populasi)\n",
    "    newPopulation= elitisme(populasi,fit)\n",
    "    while len(newPopulation) < N:\n",
    "        parent1 = tournamentselection(populasi,fit)\n",
    "        parent2 = tournamentselection(populasi,fit)\n",
    "        child1,child2 = crossover(parent1,parent2,pC)\n",
    "        child1 = mutasi(child1,pM)\n",
    "        child2 = mutasi(child2,pM)\n",
    "        newPopulation.append(child1)\n",
    "        newPopulation.append(child2)\n",
    "    populasi = newPopulation\n",
    "fit = hitungfitness(populasi)\n",
    "print(*list(zip(populasi,fit)),sep=\"\\n\")\n",
    "print(\"x1 = \", populasi[0][0])\n",
    "print(\"x2 = \", populasi[0][1])\n",
    "print(\"fitness = \",fit[0])"
   ]
  }
 ],
 "metadata": {
  "kernelspec": {
   "display_name": "Python 3",
   "language": "python",
   "name": "python3"
  },
  "language_info": {
   "codemirror_mode": {
    "name": "ipython",
    "version": 3
   },
   "file_extension": ".py",
   "mimetype": "text/x-python",
   "name": "python",
   "nbconvert_exporter": "python",
   "pygments_lexer": "ipython3",
   "version": "3.7.3"
  }
 },
 "nbformat": 4,
 "nbformat_minor": 2
}
