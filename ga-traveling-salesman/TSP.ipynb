{
 "cells": [
  {
   "cell_type": "code",
   "execution_count": 1,
   "metadata": {},
   "outputs": [],
   "source": [
    "import random, matplotlib.pyplot as plt\n",
    "from math import sqrt\n",
    "from IPython.display import clear_output\n",
    "%matplotlib inline"
   ]
  },
  {
   "cell_type": "code",
   "execution_count": 2,
   "metadata": {},
   "outputs": [
    {
     "data": {
      "text/plain": [
       "16"
      ]
     },
     "execution_count": 2,
     "metadata": {},
     "output_type": "execute_result"
    }
   ],
   "source": [
    "cord = [[82, 76],\n",
    "        [96, 44],\n",
    "        [50, 5],\n",
    "        [49, 8],\n",
    "        [13, 7],\n",
    "        [29, 89],\n",
    "        [58, 30],\n",
    "        [84, 39],\n",
    "        [14, 24],\n",
    "        [2, 39],\n",
    "        [3, 82],\n",
    "        [5, 10],\n",
    "        [98, 52],\n",
    "        [84, 25],\n",
    "        [61, 59],\n",
    "        [1, 65]]\n",
    "len(cord)"
   ]
  },
  {
   "cell_type": "code",
   "execution_count": 3,
   "metadata": {},
   "outputs": [],
   "source": [
    "def generateChrom():\n",
    "    chrom = random.sample(range(1,16),15)\n",
    "    chrom.insert(0,0)\n",
    "    chrom.append(0)\n",
    "    return chrom\n",
    "def generatePopulation(n):\n",
    "    population = []\n",
    "    for i in range(n):\n",
    "        population.append(generateChrom())\n",
    "    return population"
   ]
  },
  {
   "cell_type": "code",
   "execution_count": 4,
   "metadata": {},
   "outputs": [],
   "source": [
    "def fx(a,b):\n",
    "    return sqrt(((a[0]-b[0])**2)+((a[1]-b[1])**2))\n",
    "def distance(chrom):\n",
    "    total = 0\n",
    "    for i in range(len(chrom)-1) :\n",
    "        total += fx(cord[chrom[i]],cord[chrom[i+1]])\n",
    "    return total"
   ]
  },
  {
   "cell_type": "code",
   "execution_count": 5,
   "metadata": {},
   "outputs": [],
   "source": [
    "def crossover(ind1,ind2,pm):\n",
    "    if random.random() <= pm :\n",
    "        n = len(ind1)\n",
    "        p1,p2 = [0]*n,[0]*n\n",
    "        for i in range(1,n):\n",
    "            p1[ind1[i]] = i\n",
    "            p2[ind2[i]] = i\n",
    "        point1 = random.randint(1, n )\n",
    "        point2 = random.randint(1, n - 1)\n",
    "        if point2 >= point1:\n",
    "            point2 += 1\n",
    "        else: \n",
    "            point1, point2 = point2, point1\n",
    "        for i in range(point1,point2):\n",
    "            temp1 = ind1[i]\n",
    "            temp2 = ind2[i]\n",
    "            ind1[i], ind1[p1[temp2]] = temp2, temp1\n",
    "            ind2[i], ind2[p2[temp1]] = temp1, temp2\n",
    "            p1[temp1], p1[temp2] = p1[temp2], p1[temp1]\n",
    "            p2[temp1], p2[temp2] = p2[temp2], p2[temp1]\n",
    "        ind1[0]=0\n",
    "        ind2[0]=0\n",
    "    return ind1,ind2"
   ]
  },
  {
   "cell_type": "code",
   "execution_count": 6,
   "metadata": {},
   "outputs": [
    {
     "data": {
      "text/plain": [
       "([0, 1, 2, 3, 9, 4, 8, 6, 11, 14, 12, 7, 13, 15, 10, 5, 0],\n",
       " [0, 1, 8, 11, 4, 5, 6, 7, 2, 9, 10, 3, 12, 13, 14, 15, 0])"
      ]
     },
     "execution_count": 6,
     "metadata": {},
     "output_type": "execute_result"
    }
   ],
   "source": [
    "crossover([0, 1, 8, 11, 9, 4, 2, 6, 3, 14, 12, 7, 13, 15, 10, 5, 0],[0, 1, 2,3,4,5,6,7,8,9,10,11,12,13,14,15, 0],1)"
   ]
  },
  {
   "cell_type": "code",
   "execution_count": 7,
   "metadata": {},
   "outputs": [],
   "source": [
    "def mutate(chrom,pc):\n",
    "    if random.random()<=pc:\n",
    "        chrom = generateChrom()\n",
    "    return chrom\n",
    "def mutatev2(chrom,pc):\n",
    "    if random.random()<=pc:\n",
    "        x1,x2 = random.choice(range(1,16)),random.choice(range(1,16))\n",
    "        chrom[x1], chrom[x2] = chrom[x2], chrom[x1]\n",
    "    return chrom"
   ]
  },
  {
   "cell_type": "code",
   "execution_count": 8,
   "metadata": {},
   "outputs": [
    {
     "data": {
      "text/plain": [
       "range(1, 16)"
      ]
     },
     "execution_count": 8,
     "metadata": {},
     "output_type": "execute_result"
    }
   ],
   "source": [
    "range(1,16)"
   ]
  },
  {
   "cell_type": "code",
   "execution_count": 9,
   "metadata": {},
   "outputs": [],
   "source": [
    "def calcFitness(population):\n",
    "    fitness = []\n",
    "    for chrom in population:\n",
    "        fitness.append(-distance(chrom))\n",
    "    return fitness"
   ]
  },
  {
   "cell_type": "markdown",
   "metadata": {},
   "source": [
    "### Tournament parent selection"
   ]
  },
  {
   "cell_type": "code",
   "execution_count": 10,
   "metadata": {},
   "outputs": [],
   "source": [
    "def tournament(population,fitness,n):\n",
    "    match = list(zip(population,fitness))\n",
    "    candidate = random.sample(match,round(n/2))\n",
    "    rank = sorted(candidate, key=lambda k: k[1], reverse=True)\n",
    "    return rank[0][0],rank[1][0]"
   ]
  },
  {
   "cell_type": "markdown",
   "metadata": {},
   "source": [
    "### Elitism"
   ]
  },
  {
   "cell_type": "code",
   "execution_count": 11,
   "metadata": {},
   "outputs": [],
   "source": [
    "def elitism(population,fitness):\n",
    "    max = round(len(population)/4)\n",
    "    max = 2\n",
    "    elite=[]\n",
    "    match = list(zip(population,fitness))\n",
    "    rank = sorted(match, key=lambda k: k[1], reverse=True)\n",
    "    for i in range(max):\n",
    "        elite.append(rank[i][0])\n",
    "    return elite"
   ]
  },
  {
   "cell_type": "code",
   "execution_count": 12,
   "metadata": {},
   "outputs": [],
   "source": [
    "n_population = 80\n",
    "crossover_rate = 0.9\n",
    "mutation_rate = 0.5\n",
    "max_gen = 2000\n",
    "output = True"
   ]
  },
  {
   "cell_type": "code",
   "execution_count": 13,
   "metadata": {},
   "outputs": [
    {
     "name": "stdout",
     "output_type": "stream",
     "text": [
      "gen  2000\n",
      "([0, 12, 13, 2, 3, 9, 15, 10, 5, 1, 7, 6, 4, 11, 8, 14, 0], -510.79798721470246)\n",
      "([0, 12, 13, 2, 3, 9, 15, 10, 5, 1, 7, 6, 4, 11, 8, 14, 0], -510.79798721470246)\n",
      "([0, 12, 13, 11, 3, 9, 15, 10, 5, 1, 7, 6, 4, 2, 8, 14, 0], -567.1318014580695)\n",
      "([0, 5, 2, 10, 1, 11, 8, 3, 6, 12, 13, 14, 15, 4, 7, 9, 0], -510.79798721470246)\n",
      "([0, 12, 13, 2, 3, 9, 15, 10, 5, 1, 7, 6, 4, 11, 8, 14, 0], -645.2193755498732)\n",
      "([0, 15, 11, 5, 12, 6, 10, 4, 3, 14, 7, 1, 2, 8, 9, 13, 0], -759.7870641309472)\n",
      "([0, 4, 13, 2, 3, 9, 15, 10, 5, 1, 7, 6, 12, 11, 8, 14, 0], -510.79798721470246)\n",
      "([0, 12, 13, 2, 3, 9, 15, 10, 5, 1, 7, 6, 4, 11, 8, 14, 0], -880.1264608066676)\n",
      "([0, 12, 4, 2, 3, 9, 15, 10, 5, 1, 7, 6, 13, 11, 8, 14, 0], -510.79798721470246)\n",
      "([0, 10, 4, 7, 11, 12, 2, 3, 13, 9, 8, 1, 15, 6, 14, 5, 0], -510.79798721470246)\n",
      "([0, 12, 13, 2, 3, 6, 15, 10, 5, 1, 7, 9, 4, 11, 8, 14, 0], -510.79798721470246)\n",
      "([0, 14, 2, 9, 13, 1, 12, 4, 11, 15, 7, 8, 6, 3, 10, 5, 0], -510.79798721470246)\n",
      "([0, 12, 13, 2, 3, 9, 15, 10, 5, 1, 7, 6, 4, 11, 8, 14, 0], -704.2694163673526)\n",
      "([0, 7, 4, 1, 12, 15, 9, 10, 13, 6, 14, 11, 5, 8, 3, 2, 0], -957.5717855383843)\n",
      "([0, 12, 13, 2, 3, 9, 15, 10, 5, 1, 7, 6, 4, 11, 8, 14, 0], -510.79798721470246)\n",
      "([0, 12, 13, 2, 3, 9, 15, 10, 5, 1, 7, 6, 4, 11, 8, 14, 0], -510.79798721470246)\n",
      "([0, 12, 11, 2, 3, 9, 15, 10, 5, 1, 7, 6, 4, 13, 8, 14, 0], -614.956704661675)\n",
      "([0, 12, 13, 2, 3, 9, 15, 10, 5, 1, 7, 6, 4, 11, 8, 14, 0], -934.3073258826887)\n",
      "([0, 12, 13, 2, 3, 9, 15, 10, 5, 8, 7, 6, 4, 11, 1, 14, 0], -510.79798721470246)\n",
      "([0, 14, 9, 4, 13, 7, 10, 1, 3, 2, 8, 5, 12, 15, 6, 11, 0], -510.79798721470246)\n",
      "([0, 12, 13, 2, 3, 9, 15, 10, 5, 1, 7, 6, 4, 11, 8, 14, 0], -510.79798721470246)\n",
      "([0, 12, 13, 2, 3, 9, 15, 10, 5, 1, 7, 6, 4, 11, 8, 14, 0], -510.79798721470246)\n",
      "([0, 12, 13, 2, 3, 9, 15, 10, 5, 1, 7, 6, 4, 11, 8, 14, 0], -510.79798721470246)\n",
      "([0, 13, 12, 9, 14, 8, 2, 15, 4, 11, 5, 10, 3, 6, 7, 1, 0], -918.4163035475962)\n",
      "([0, 12, 13, 2, 3, 9, 15, 10, 5, 1, 7, 6, 4, 11, 8, 14, 0], -556.9208057649311)\n",
      "([0, 12, 13, 2, 3, 9, 15, 10, 5, 1, 7, 6, 4, 11, 8, 14, 0], -510.79798721470246)\n",
      "([0, 12, 13, 2, 3, 9, 15, 10, 5, 1, 7, 6, 4, 11, 8, 14, 0], -633.4424102062032)\n",
      "([0, 1, 9, 14, 7, 10, 12, 8, 3, 6, 4, 13, 11, 2, 5, 15, 0], -927.0376551139911)\n",
      "([0, 12, 13, 2, 3, 9, 15, 10, 5, 1, 7, 14, 4, 11, 8, 6, 0], -510.79798721470246)\n",
      "([0, 3, 5, 12, 14, 1, 2, 13, 9, 8, 15, 6, 11, 7, 4, 10, 0], -1188.365237695995)\n",
      "([0, 12, 13, 2, 3, 9, 11, 10, 5, 1, 7, 6, 4, 15, 8, 14, 0], -510.79798721470246)\n",
      "([0, 12, 13, 2, 3, 9, 15, 10, 5, 1, 7, 6, 4, 11, 8, 14, 0], -510.79798721470246)\n",
      "([0, 12, 13, 2, 3, 9, 15, 10, 5, 1, 7, 6, 4, 11, 8, 14, 0], -615.3654876915614)\n",
      "([0, 12, 13, 2, 3, 9, 15, 10, 5, 1, 7, 6, 4, 11, 8, 14, 0], -510.79798721470246)\n",
      "([0, 12, 13, 2, 3, 9, 15, 10, 5, 1, 7, 6, 4, 11, 8, 14, 0], -633.4424102062032)\n",
      "([0, 15, 14, 4, 7, 8, 2, 12, 3, 10, 1, 13, 9, 11, 6, 5, 0], -510.79798721470246)\n",
      "([0, 12, 13, 2, 3, 9, 15, 10, 5, 1, 7, 6, 4, 11, 8, 14, 0], -510.79798721470246)\n",
      "([0, 12, 13, 2, 3, 9, 15, 10, 5, 1, 7, 6, 4, 11, 8, 14, 0], -792.624049957074)\n",
      "([0, 12, 13, 2, 3, 9, 15, 10, 5, 1, 7, 6, 4, 11, 8, 14, 0], -510.79798721470246)\n",
      "([0, 2, 14, 1, 15, 11, 13, 6, 4, 5, 9, 8, 7, 12, 10, 3, 0], -510.79798721470246)\n",
      "([0, 12, 13, 2, 3, 9, 15, 10, 5, 1, 7, 6, 4, 11, 8, 14, 0], -510.79798721470246)\n",
      "([0, 12, 13, 2, 3, 9, 15, 10, 5, 1, 7, 6, 4, 11, 8, 14, 0], -510.79798721470246)\n",
      "([0, 12, 13, 2, 3, 9, 15, 10, 5, 1, 7, 6, 4, 11, 8, 14, 0], -638.4858148717985)\n",
      "([0, 12, 13, 2, 3, 9, 15, 10, 5, 1, 7, 6, 4, 11, 8, 14, 0], -1044.9714706557402)\n",
      "([0, 12, 13, 2, 3, 9, 15, 10, 5, 1, 7, 6, 4, 11, 8, 14, 0], -597.1889112204349)\n",
      "([0, 10, 13, 1, 15, 9, 7, 2, 14, 6, 4, 11, 3, 8, 12, 5, 0], -510.79798721470246)\n",
      "([0, 12, 13, 2, 3, 9, 15, 10, 5, 1, 7, 6, 4, 11, 8, 14, 0], -510.79798721470246)\n",
      "([0, 12, 13, 2, 3, 9, 15, 10, 5, 1, 7, 6, 4, 11, 8, 14, 0], -510.79798721470246)\n",
      "([0, 12, 13, 2, 3, 9, 15, 10, 5, 1, 4, 6, 7, 11, 8, 14, 0], -510.79798721470246)\n",
      "([0, 4, 2, 12, 8, 3, 14, 5, 6, 7, 9, 11, 1, 10, 15, 13, 0], -1157.6029816656155)\n",
      "([0, 12, 13, 2, 3, 9, 15, 10, 5, 1, 7, 6, 4, 11, 8, 14, 0], -586.1056402379903)\n",
      "([0, 12, 13, 2, 3, 9, 15, 10, 5, 1, 7, 6, 4, 11, 8, 14, 0], -510.79798721470246)\n",
      "([0, 12, 13, 3, 2, 9, 15, 10, 5, 1, 7, 6, 4, 11, 8, 14, 0], -510.79798721470246)\n",
      "([0, 12, 13, 2, 3, 9, 15, 10, 5, 1, 7, 6, 4, 11, 8, 14, 0], -510.79798721470246)\n",
      "([0, 12, 13, 2, 3, 9, 15, 10, 5, 1, 7, 6, 4, 11, 8, 14, 0], -510.79798721470246)\n",
      "([0, 12, 13, 2, 3, 9, 15, 10, 5, 1, 7, 6, 4, 11, 8, 14, 0], -510.79798721470246)\n",
      "([0, 12, 13, 2, 3, 9, 15, 10, 5, 1, 4, 6, 7, 11, 8, 14, 0], -510.79798721470246)\n",
      "([0, 12, 13, 2, 3, 9, 15, 10, 5, 1, 7, 6, 4, 11, 8, 14, 0], -799.7186411534393)\n",
      "([0, 12, 13, 2, 3, 9, 15, 10, 5, 1, 7, 6, 4, 11, 8, 14, 0], -510.79798721470246)\n",
      "([0, 12, 13, 2, 3, 9, 15, 10, 5, 1, 7, 6, 4, 11, 8, 14, 0], -1055.7238253831626)\n",
      "([0, 12, 13, 2, 3, 9, 15, 10, 5, 1, 7, 6, 4, 11, 8, 14, 0], -516.8349615189604)\n",
      "([0, 12, 13, 2, 3, 9, 15, 10, 5, 1, 7, 6, 4, 11, 8, 14, 0], -778.7088243339738)\n",
      "([0, 13, 12, 2, 3, 9, 15, 10, 5, 1, 7, 6, 4, 11, 8, 14, 0], -510.79798721470246)\n",
      "([0, 7, 10, 15, 6, 4, 3, 14, 8, 13, 11, 5, 9, 1, 2, 12, 0], -510.79798721470246)\n",
      "([0, 12, 13, 2, 3, 9, 15, 10, 5, 1, 7, 6, 4, 11, 8, 14, 0], -510.79798721470246)\n",
      "([0, 15, 14, 12, 3, 13, 6, 8, 9, 10, 11, 1, 2, 5, 7, 4, 0], -852.5711503231416)\n",
      "([0, 12, 13, 2, 3, 9, 15, 7, 5, 1, 10, 6, 4, 11, 8, 14, 0], -510.79798721470246)\n",
      "([0, 14, 15, 10, 5, 8, 12, 11, 3, 9, 1, 2, 7, 13, 4, 6, 0], -510.79798721470246)\n",
      "([0, 12, 13, 2, 3, 9, 15, 4, 5, 1, 7, 6, 10, 11, 8, 14, 0], -631.4893773892887)\n",
      "([0, 12, 13, 2, 3, 9, 15, 10, 5, 1, 7, 6, 4, 11, 8, 14, 0], -904.1663965639607)\n",
      "([0, 12, 13, 2, 3, 9, 15, 10, 5, 1, 7, 6, 4, 11, 8, 14, 0], -510.79798721470246)\n",
      "([0, 12, 13, 2, 3, 9, 15, 10, 5, 1, 7, 6, 4, 11, 8, 14, 0], -510.79798721470246)\n",
      "([0, 12, 13, 2, 3, 9, 15, 10, 5, 1, 7, 6, 4, 11, 8, 14, 0], -586.1056402379903)\n",
      "([0, 10, 12, 14, 4, 6, 7, 3, 11, 5, 13, 9, 8, 1, 2, 15, 0], -510.79798721470246)\n",
      "([0, 12, 13, 2, 3, 9, 10, 15, 5, 1, 7, 6, 4, 11, 8, 14, 0], -536.1669752030701)\n",
      "([0, 9, 1, 14, 4, 11, 5, 7, 15, 3, 6, 13, 12, 2, 10, 8, 0], -510.79798721470246)\n",
      "([0, 12, 13, 2, 3, 9, 15, 10, 5, 1, 7, 6, 4, 11, 8, 14, 0], -774.3753444275169)\n",
      "([0, 14, 6, 3, 11, 4, 5, 8, 2, 10, 15, 13, 1, 7, 12, 9, 0], -510.79798721470246)\n",
      "([0, 12, 13, 2, 3, 9, 15, 10, 5, 1, 8, 6, 4, 11, 7, 14, 0], -510.79798721470246)\n",
      "([0, 5, 13, 8, 2, 12, 15, 14, 7, 1, 6, 9, 11, 4, 3, 10, 0], -937.5663230610504)\n",
      "Result\n",
      "([0, 12, 13, 2, 3, 9, 15, 10, 5, 1, 7, 6, 4, 11, 8, 14, 0], -510.79798721470246)\n",
      "([0, 12, 13, 2, 3, 9, 15, 10, 5, 1, 7, 6, 4, 11, 8, 14, 0], -510.79798721470246)\n",
      "Best Solution\n",
      "([0, 12, 13, 2, 3, 9, 15, 10, 5, 1, 7, 6, 4, 11, 8, 14, 0], -510.79798721470246)\n",
      "[0, 12, 13, 2, 3, 9, 15, 10, 5, 1, 7, 6, 4, 11, 8, 14, 0]\n"
     ]
    },
    {
     "data": {
      "text/plain": [
       "[<matplotlib.lines.Line2D at 0x1dbffb36710>]"
      ]
     },
     "execution_count": 13,
     "metadata": {},
     "output_type": "execute_result"
    },
    {
     "data": {
      "image/png": "[encoded data removed]",
      "text/plain": [
       "<Figure size 432x288 with 1 Axes>"
      ]
     },
     "metadata": {
      "needs_background": "light"
     },
     "output_type": "display_data"
    }
   ],
   "source": [
    "population = generatePopulation(n_population)\n",
    "for gen in range(max_gen):    \n",
    "    fitnesses = calcFitness(population)\n",
    "    newPopulation = elitism(population,fitnesses)\n",
    "    while len(newPopulation) < n_population:\n",
    "#         parent1,*_ = tournament(population,fitnesses,n_population)\n",
    "#         parent2,*_ = tournament(population,fitnesses,n_population)\n",
    "        parent1, parent2 = tournament(population,fitnesses,n_population)\n",
    "        child1,child2 = parent1.copy(),parent2.copy()\n",
    "        child1,child2 = crossover(child1.copy(),child2.copy(),crossover_rate)\n",
    "        child1 = mutatev2(child1,mutation_rate)\n",
    "        child2 = mutate(child2,mutation_rate)\n",
    "        newPopulation.extend([child1,child2])\n",
    "#         fitnesses = calcFitness(newPopulation)\n",
    "    if output:\n",
    "        clear_output(wait=True)\n",
    "        print(\"gen \",gen+1)\n",
    "        print(*zip(newPopulation,fitnesses),sep=\"\\n\")\n",
    "    population = newPopulation\n",
    "n = 2\n",
    "elite = list(zip(population[:n],fitnesses[:n]))\n",
    "print(\"Result\")\n",
    "print(*elite,sep=\"\\n\")\n",
    "best  = elite[0]\n",
    "print(\"Best Solution\",best,sep=\"\\n\")\n",
    "res = best[0]\n",
    "print(res)\n",
    "plt.plot([cord[res[i]][0] for i in range(17)], [cord[res[i]][1] for i in range(17)], 'ob-')"
   ]
  }
 ],
 "metadata": {
  "kernelspec": {
   "display_name": "Python 3",
   "language": "python",
   "name": "python3"
  },
  "language_info": {
   "codemirror_mode": {
    "name": "ipython",
    "version": 3
   },
   "file_extension": ".py",
   "mimetype": "text/x-python",
   "name": "python",
   "nbconvert_exporter": "python",
   "pygments_lexer": "ipython3",
   "version": "3.7.3"
  }
 },
 "nbformat": 4,
 "nbformat_minor": 2
}
